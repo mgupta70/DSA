{
 "cells": [
  {
   "cell_type": "markdown",
   "id": "f2466291",
   "metadata": {},
   "source": [
    "__Strategy:__\n",
    "1. Define inputs and outputs\n",
    "2. Make some input output pairs covering as many edge cases as you can\n",
    "3. THink of a solution. Write it in plain English\n",
    "4. Implement it & test it for all cases\n",
    "5. Remove inefficiencies \n",
    "6. Apply right technique and repeat steps 3-6"
   ]
  },
  {
   "cell_type": "markdown",
   "id": "a5a4f755",
   "metadata": {},
   "source": [
    "__Problem:__\n",
    "We need to write a program to find the position of a given number in a list of numbers arranged in decreasing order. We also need to minimize the number of times we access elements from the list."
   ]
  },
  {
   "cell_type": "markdown",
   "id": "27519e6b",
   "metadata": {},
   "source": [
    "- inputs - cards, query\n",
    "- outputs - index (i.e. location)\n"
   ]
  },
  {
   "cell_type": "code",
   "execution_count": 2,
   "id": "c40cfb7b",
   "metadata": {},
   "outputs": [],
   "source": [
    "tests = []\n",
    "\n",
    "\n",
    "# normal case\n",
    "test = {\n",
    "    'input': {\n",
    "        'cards': [13, 11, 10, 7, 4, 3, 1, 0], \n",
    "        'query': 7\n",
    "    },\n",
    "    'output': 3\n",
    "}\n",
    "\n",
    "tests.append(test)\n",
    "\n",
    "# query number is repeated\n",
    "tests.append({\n",
    "    'input': {\n",
    "        'cards': [13, 11, 7, 7, 7, 3, 1, 0], \n",
    "        'query': 7\n",
    "    },\n",
    "    'output': 2\n",
    "})\n",
    "\n",
    "\n",
    "# numbers near query are repeated\n",
    "tests.append({\n",
    "    'input': {\n",
    "        'cards': [13, 13, 11, 7, 3, 3, 1, 0], \n",
    "        'query': 7\n",
    "    },\n",
    "    'output': 3\n",
    "})\n",
    "\n",
    "\n",
    "# query not in list\n",
    "tests.append({\n",
    "    'input': {\n",
    "        'cards': [13, 11, 10, 7, 4, 3, 1, 0], \n",
    "        'query': 6\n",
    "    },\n",
    "    'output': -1\n",
    "})\n",
    "\n",
    "\n",
    "# empty cards list\n",
    "tests.append({\n",
    "    'input': {\n",
    "        'cards': [], \n",
    "        'query': 7\n",
    "    },\n",
    "    'output': -1\n",
    "})\n",
    "\n",
    "# repetition of query number such that all numbers are query num\n",
    "tests.append({\n",
    "    'input': {\n",
    "        'cards': [7,7,7,7,7,7,7,7,7], \n",
    "        'query': 7\n",
    "    },\n",
    "    'output': 0\n",
    "})\n",
    "\n",
    "\n",
    "# first element is query\n",
    "tests.append({\n",
    "    'input': {\n",
    "        'cards': [13, 11, 10, 7, 4, 3, 1, 0], \n",
    "        'query': 13\n",
    "    },\n",
    "    'output': 0\n",
    "})\n",
    "\n",
    "\n",
    "# last element is query\n",
    "tests.append({\n",
    "    'input': {\n",
    "        'cards': [13, 11, 10, 7, 4, 3, 1, 0], \n",
    "        'query': 0\n",
    "    },\n",
    "    'output': 7\n",
    "})\n",
    "\n",
    "\n",
    "# single element in list\n",
    "tests.append({\n",
    "    'input': {\n",
    "        'cards': [13], \n",
    "        'query': 13\n",
    "    },\n",
    "    'output': 0\n",
    "})\n",
    "\n",
    "\n",
    "## add some more\n",
    "tests.append({\n",
    "    'input': {\n",
    "        'cards': [13, 11, 10, 7, 4, 3, 1, 0],\n",
    "        'query': 1\n",
    "    },\n",
    "    'output': 6\n",
    "})\n",
    "\n",
    "# query is the first element\n",
    "tests.append({\n",
    "    'input': {\n",
    "        'cards': [4, 2, 1, -1],\n",
    "        'query': 4\n",
    "    },\n",
    "    'output': 0\n",
    "})\n",
    "\n",
    "# query is the last element\n",
    "tests.append({\n",
    "    'input': {\n",
    "        'cards': [3, -1, -9, -127],\n",
    "        'query': -127\n",
    "    },\n",
    "    'output': 3\n",
    "})\n",
    "\n",
    "# cards contains just one element, query\n",
    "tests.append({\n",
    "    'input': {\n",
    "        'cards': [6],\n",
    "        'query': 6\n",
    "    },\n",
    "    'output': 0 \n",
    "})\n",
    "\n",
    "# cards does not contain query \n",
    "tests.append({\n",
    "    'input': {\n",
    "        'cards': [9, 7, 5, 2, -9],\n",
    "        'query': 4\n",
    "    },\n",
    "    'output': -1\n",
    "})\n",
    "\n",
    "# cards is empty\n",
    "tests.append({\n",
    "    'input': {\n",
    "        'cards': [],\n",
    "        'query': 7\n",
    "    },\n",
    "    'output': -1\n",
    "})\n",
    "\n",
    "\n",
    "# numbers can repeat in cards\n",
    "tests.append({\n",
    "    'input': {\n",
    "        'cards': [8, 8, 6, 6, 6, 6, 6, 3, 2, 2, 2, 0, 0, 0],\n",
    "        'query': 3\n",
    "    },\n",
    "    'output': 7\n",
    "})\n",
    "\n",
    "\n",
    "# query occurs multiple times\n",
    "tests.append({\n",
    "    'input': {\n",
    "        'cards': [8, 8, 6, 6, 6, 6, 6, 6, 3, 2, 2, 2, 0, 0, 0],\n",
    "        'query': 6\n",
    "    },\n",
    "    'output': 2\n",
    "})"
   ]
  },
  {
   "cell_type": "code",
   "execution_count": 3,
   "id": "bc4eaa56",
   "metadata": {},
   "outputs": [
    {
     "data": {
      "text/plain": [
       "[{'input': {'cards': [13, 11, 10, 7, 4, 3, 1, 0], 'query': 7}, 'output': 3},\n",
       " {'input': {'cards': [13, 11, 7, 7, 7, 3, 1, 0], 'query': 7}, 'output': 2},\n",
       " {'input': {'cards': [13, 13, 11, 7, 3, 3, 1, 0], 'query': 7}, 'output': 3},\n",
       " {'input': {'cards': [13, 11, 10, 7, 4, 3, 1, 0], 'query': 6}, 'output': -1},\n",
       " {'input': {'cards': [], 'query': 7}, 'output': -1},\n",
       " {'input': {'cards': [7, 7, 7, 7, 7, 7, 7, 7, 7], 'query': 7}, 'output': 0},\n",
       " {'input': {'cards': [13, 11, 10, 7, 4, 3, 1, 0], 'query': 13}, 'output': 0},\n",
       " {'input': {'cards': [13, 11, 10, 7, 4, 3, 1, 0], 'query': 0}, 'output': 7},\n",
       " {'input': {'cards': [13], 'query': 13}, 'output': 0},\n",
       " {'input': {'cards': [13, 11, 10, 7, 4, 3, 1, 0], 'query': 1}, 'output': 6},\n",
       " {'input': {'cards': [4, 2, 1, -1], 'query': 4}, 'output': 0},\n",
       " {'input': {'cards': [3, -1, -9, -127], 'query': -127}, 'output': 3},\n",
       " {'input': {'cards': [6], 'query': 6}, 'output': 0},\n",
       " {'input': {'cards': [9, 7, 5, 2, -9], 'query': 4}, 'output': -1},\n",
       " {'input': {'cards': [], 'query': 7}, 'output': -1},\n",
       " {'input': {'cards': [8, 8, 6, 6, 6, 6, 6, 3, 2, 2, 2, 0, 0, 0], 'query': 3},\n",
       "  'output': 7},\n",
       " {'input': {'cards': [8, 8, 6, 6, 6, 6, 6, 6, 3, 2, 2, 2, 0, 0, 0],\n",
       "   'query': 6},\n",
       "  'output': 2}]"
      ]
     },
     "execution_count": 3,
     "metadata": {},
     "output_type": "execute_result"
    }
   ],
   "source": [
    "tests"
   ]
  },
  {
   "cell_type": "markdown",
   "id": "c88c3366",
   "metadata": {},
   "source": [
    "__solution in plain english__\n",
    "1. Pick the middle card\n",
    "2. If middle card is less than query: get the left half if greater right or if equal break\n",
    "3. Repeat until solution is found"
   ]
  },
  {
   "cell_type": "code",
   "execution_count": 27,
   "id": "83ef6ef4",
   "metadata": {},
   "outputs": [],
   "source": [
    "def locate_card(cards, query):\n",
    "    lower = 0\n",
    "    upper = len(cards)-1 ### \n",
    "    while len(cards)>0 and upper>=lower:\n",
    "        middle = (lower+upper)//2\n",
    "        #print(middle)\n",
    "        if cards[middle] == query:\n",
    "            return middle\n",
    "        elif cards[middle]< query:\n",
    "            upper = middle-1\n",
    "        elif cards[middle] > query:\n",
    "            lower = middle + 1\n",
    "    return -1"
   ]
  },
  {
   "cell_type": "code",
   "execution_count": 28,
   "id": "3fb994b6",
   "metadata": {},
   "outputs": [
    {
     "name": "stdout",
     "output_type": "stream",
     "text": [
      "Answer:  3  Is it correct?:  True\n",
      "Answer:  3  Is it correct?:  False\n",
      "Answer:  3  Is it correct?:  True\n",
      "Answer:  -1  Is it correct?:  True\n",
      "Answer:  -1  Is it correct?:  True\n",
      "Answer:  4  Is it correct?:  False\n",
      "Answer:  0  Is it correct?:  True\n",
      "Answer:  7  Is it correct?:  True\n",
      "Answer:  0  Is it correct?:  True\n",
      "Answer:  6  Is it correct?:  True\n",
      "Answer:  0  Is it correct?:  True\n",
      "Answer:  3  Is it correct?:  True\n",
      "Answer:  0  Is it correct?:  True\n",
      "Answer:  -1  Is it correct?:  True\n",
      "Answer:  -1  Is it correct?:  True\n",
      "Answer:  7  Is it correct?:  True\n",
      "Answer:  7  Is it correct?:  False\n"
     ]
    }
   ],
   "source": [
    "for test in tests:\n",
    "    out = locate_card(**test['input'])\n",
    "    print('Answer: ', out, ' Is it correct?: ', out==test['output'])"
   ]
  },
  {
   "cell_type": "markdown",
   "id": "566699c9",
   "metadata": {},
   "source": [
    "Remove inefficiencies.\n",
    "\n",
    "Failure happens when there is repitition"
   ]
  },
  {
   "cell_type": "code",
   "execution_count": 29,
   "id": "8327ee0e",
   "metadata": {},
   "outputs": [],
   "source": [
    "def locate_card(cards, query):\n",
    "    lower = 0\n",
    "    upper = len(cards)-1 \n",
    "    while len(cards)>0 and upper>=lower:\n",
    "        middle = (lower+upper)//2\n",
    "        #print(middle)\n",
    "        if cards[middle] == query:\n",
    "            middle = get_first(cards, middle)\n",
    "            return middle\n",
    "        elif cards[middle]< query:\n",
    "            upper = middle-1\n",
    "        elif cards[middle] > query:\n",
    "            lower = middle + 1\n",
    "    return -1\n",
    "\n",
    "def get_first(cards, middle):\n",
    "    while middle>0 and cards[middle-1]==cards[middle]:\n",
    "        middle=middle-1\n",
    "    return middle"
   ]
  },
  {
   "cell_type": "code",
   "execution_count": 30,
   "id": "92dd39ee",
   "metadata": {},
   "outputs": [
    {
     "name": "stdout",
     "output_type": "stream",
     "text": [
      "Answer:  3  Is it correct?:  True\n",
      "Answer:  2  Is it correct?:  True\n",
      "Answer:  3  Is it correct?:  True\n",
      "Answer:  -1  Is it correct?:  True\n",
      "Answer:  -1  Is it correct?:  True\n",
      "Answer:  0  Is it correct?:  True\n",
      "Answer:  0  Is it correct?:  True\n",
      "Answer:  7  Is it correct?:  True\n",
      "Answer:  0  Is it correct?:  True\n",
      "Answer:  6  Is it correct?:  True\n",
      "Answer:  0  Is it correct?:  True\n",
      "Answer:  3  Is it correct?:  True\n",
      "Answer:  0  Is it correct?:  True\n",
      "Answer:  -1  Is it correct?:  True\n",
      "Answer:  -1  Is it correct?:  True\n",
      "Answer:  7  Is it correct?:  True\n",
      "Answer:  2  Is it correct?:  True\n"
     ]
    }
   ],
   "source": [
    "for test in tests:\n",
    "    out = locate_card(**test['input'])\n",
    "    print('Answer: ', out, ' Is it correct?: ', out==test['output'])"
   ]
  },
  {
   "cell_type": "code",
   "execution_count": 31,
   "id": "d074108c",
   "metadata": {},
   "outputs": [
    {
     "name": "stdout",
     "output_type": "stream",
     "text": [
      "612 ns ± 3.37 ns per loop (mean ± std. dev. of 7 runs, 1,000,000 loops each)\n"
     ]
    }
   ],
   "source": [
    "%timeit locate_card(**tests[0]['input'])"
   ]
  },
  {
   "cell_type": "markdown",
   "id": "0e25e1bd",
   "metadata": {},
   "source": [
    "For Linear search it was: 637 ns ± 11.5 ns per loop (mean ± std. dev. of 7 runs, 1,000,000 loops each)\n",
    "\n",
    "__Benefit of Binary Search over Linear Search becomes more evident when the number of cards are large.__"
   ]
  },
  {
   "cell_type": "code",
   "execution_count": 33,
   "id": "0389c207",
   "metadata": {},
   "outputs": [
    {
     "name": "stdout",
     "output_type": "stream",
     "text": [
      "2.91 µs ± 43.3 ns per loop (mean ± std. dev. of 7 runs, 100,000 loops each)\n"
     ]
    }
   ],
   "source": [
    "test1 = {\n",
    "    'input': {\n",
    "        'cards': list(range(1000, -1200, -1)), \n",
    "        'query': -1100\n",
    "    },\n",
    "    'output': 2100\n",
    "}\n",
    "\n",
    "\n",
    "%timeit locate_card(**test1['input'])"
   ]
  },
  {
   "cell_type": "markdown",
   "id": "378c5708",
   "metadata": {},
   "source": [
    "For Linear search it was: 263 µs ± 8.65 µs per loop (mean ± std. dev. of 7 runs, 1,000 loops each)"
   ]
  },
  {
   "cell_type": "code",
   "execution_count": 32,
   "id": "cb533ea2",
   "metadata": {},
   "outputs": [
    {
     "name": "stdout",
     "output_type": "stream",
     "text": [
      "6.13 µs ± 85.3 ns per loop (mean ± std. dev. of 7 runs, 100,000 loops each)\n"
     ]
    }
   ],
   "source": [
    "test2 = {\n",
    "    'input': {\n",
    "        'cards': list(range(1000000, -1200, -1)), \n",
    "        'query': -1100\n",
    "    },\n",
    "    'output': 1001100\n",
    "}\n",
    "\n",
    "\n",
    "%timeit locate_card(**test2['input'])"
   ]
  },
  {
   "cell_type": "markdown",
   "id": "55047c57",
   "metadata": {},
   "source": [
    "For Linear search it was: 127 ms ± 4.19 ms per loop (mean ± std. dev. of 7 runs, 10 loops each)"
   ]
  },
  {
   "cell_type": "code",
   "execution_count": 34,
   "id": "7f237aae",
   "metadata": {},
   "outputs": [
    {
     "name": "stdout",
     "output_type": "stream",
     "text": [
      "8.49 µs ± 65.3 ns per loop (mean ± std. dev. of 7 runs, 100,000 loops each)\n"
     ]
    }
   ],
   "source": [
    "test3 = {\n",
    "    'input': {\n",
    "        'cards': list(range(100000000, -1200, -1)), \n",
    "        'query': -1100\n",
    "    },\n",
    "    'output': 100001100\n",
    "}\n",
    "\n",
    "\n",
    "%timeit locate_card(**test3['input'])"
   ]
  },
  {
   "cell_type": "markdown",
   "id": "9e917006",
   "metadata": {},
   "source": [
    "For Linear search it was: 13.1 s ± 302 ms per loop (mean ± std. dev. of 7 runs, 1 loop each)\n",
    "    \n",
    "    "
   ]
  },
  {
   "cell_type": "markdown",
   "id": "f9770c9a",
   "metadata": {},
   "source": [
    "__worst case__ - N -> N/2 -> N/4 ... -> N/2^k\n",
    "\n",
    "__time complexity - O(log N)__ \n",
    "\n",
    "N -> N/2 -> N/4 ... -> N/2^k\n",
    "\n",
    "Final array length = 1\n",
    "\n",
    "N/2^k = 1\n",
    "\n",
    "k = log N\n",
    "\n",
    ":: <font color='red'> O(log N) </font>\n",
    "\n",
    "__space complexity__ - num variables we need -  `position` -> 1 (in our case):: <font color='red'> O(1) </font>"
   ]
  },
  {
   "cell_type": "markdown",
   "id": "2e6a54be",
   "metadata": {},
   "source": [
    "__Recommended Solution__"
   ]
  },
  {
   "cell_type": "markdown",
   "id": "70e8dfcc",
   "metadata": {},
   "source": [
    "## Generic Binary Search"
   ]
  },
  {
   "cell_type": "markdown",
   "id": "bc640ef5",
   "metadata": {},
   "source": [
    "Strategy: \n",
    "1. Come up with a condition to determine whether the answer lies before, after or at a given position\n",
    "2. Retrieve midpoint and middle element of the list\n",
    "3. If this is the answer,  return the middle position\n",
    "4. If answer lies before it, repeat search with first half of the list\n",
    "5. If answer lies after it, repeat the search with second half of the list\n"
   ]
  },
  {
   "cell_type": "code",
   "execution_count": 36,
   "id": "84b8770d",
   "metadata": {},
   "outputs": [],
   "source": [
    "## Generic binary search function\n",
    "def binary_search(lo, hi, condition):\n",
    "    while lo<=hi:\n",
    "        mid = (lo+hi)//2\n",
    "        result = condition(mid)\n",
    "        if result == 'found':\n",
    "            return mid\n",
    "        elif result == 'left':\n",
    "            hi = mid - 1\n",
    "        else:\n",
    "            lo = mid + 1\n",
    "    return -1\n",
    "            "
   ]
  },
  {
   "cell_type": "code",
   "execution_count": 39,
   "id": "14ec6809",
   "metadata": {},
   "outputs": [],
   "source": [
    "def locate_card(cards, query):\n",
    "    def condition(mid):\n",
    "        if cards[mid]==query:\n",
    "            if mid>0 and cards[mid-1]==query:\n",
    "                return 'left'\n",
    "            else:\n",
    "                return 'found'\n",
    "        elif cards[mid]<query:\n",
    "            return 'left'\n",
    "        else:\n",
    "            return 'right'\n",
    "    return binary_search(0, len(cards)-1, condition)"
   ]
  },
  {
   "cell_type": "code",
   "execution_count": 40,
   "id": "996da460",
   "metadata": {},
   "outputs": [
    {
     "name": "stdout",
     "output_type": "stream",
     "text": [
      "Answer:  3  Is it correct?:  True\n",
      "Answer:  2  Is it correct?:  True\n",
      "Answer:  3  Is it correct?:  True\n",
      "Answer:  -1  Is it correct?:  True\n",
      "Answer:  -1  Is it correct?:  True\n",
      "Answer:  0  Is it correct?:  True\n",
      "Answer:  0  Is it correct?:  True\n",
      "Answer:  7  Is it correct?:  True\n",
      "Answer:  0  Is it correct?:  True\n",
      "Answer:  6  Is it correct?:  True\n",
      "Answer:  0  Is it correct?:  True\n",
      "Answer:  3  Is it correct?:  True\n",
      "Answer:  0  Is it correct?:  True\n",
      "Answer:  -1  Is it correct?:  True\n",
      "Answer:  -1  Is it correct?:  True\n",
      "Answer:  7  Is it correct?:  True\n",
      "Answer:  2  Is it correct?:  True\n"
     ]
    }
   ],
   "source": [
    "for test in tests:\n",
    "    out = locate_card(**test['input'])\n",
    "    print('Answer: ', out, ' Is it correct?: ', out==test['output'])"
   ]
  },
  {
   "cell_type": "code",
   "execution_count": 41,
   "id": "99ffd449",
   "metadata": {},
   "outputs": [
    {
     "name": "stdout",
     "output_type": "stream",
     "text": [
      "9.33 µs ± 120 ns per loop (mean ± std. dev. of 7 runs, 100,000 loops each)\n"
     ]
    }
   ],
   "source": [
    "test3 = {\n",
    "    'input': {\n",
    "        'cards': list(range(100000000, -1200, -1)), \n",
    "        'query': -1100\n",
    "    },\n",
    "    'output': 100001100\n",
    "}\n",
    "\n",
    "\n",
    "%timeit locate_card(**test3['input'])"
   ]
  },
  {
   "attachments": {
    "O%20Notation.jpeg": {
     "image/jpeg": "[encoded data removed]"
    }
   },
   "cell_type": "markdown",
   "id": "fb9c2a5a",
   "metadata": {},
   "source": [
    "![O%20Notation.jpeg](attachment:O%20Notation.jpeg)"
   ]
  }
 ],
 "metadata": {
  "kernelspec": {
   "display_name": "Python 3 (ipykernel)",
   "language": "python",
   "name": "python3"
  },
  "language_info": {
   "codemirror_mode": {
    "name": "ipython",
    "version": 3
   },
   "file_extension": ".py",
   "mimetype": "text/x-python",
   "name": "python",
   "nbconvert_exporter": "python",
   "pygments_lexer": "ipython3",
   "version": "3.10.9"
  }
 },
 "nbformat": 4,
 "nbformat_minor": 5
}
