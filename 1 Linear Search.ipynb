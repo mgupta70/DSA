{
 "cells": [
  {
   "cell_type": "markdown",
   "id": "5967ebcc",
   "metadata": {},
   "source": [
    "__Strategy:__\n",
    "1. State problem clearly- Define Input an Output __formats__\n",
    "2. Come up with sample inputs and outputs. Try to cover all edge cases.\n",
    "3. Come up with correct solution. State solution in plain english\n",
    "4. Implement and test it for cases defined in 3. Fix bugs\n",
    "5. Analyze complexity and identify inefficiencies.\n",
    "6. Apply right technique. Repeat steps 3-6\n"
   ]
  },
  {
   "cell_type": "markdown",
   "id": "a33e310b",
   "metadata": {},
   "source": [
    "__Problem:__\n",
    "We need to write a program to find the position of a given number in a list of numbers arranged in decreasing order. We also need to minimize the number of times we access elements from the list."
   ]
  },
  {
   "cell_type": "markdown",
   "id": "7aa0dcb1",
   "metadata": {},
   "source": [
    "- inputs - cards, query\n",
    "- outputs - index (i.e. location)\n"
   ]
  },
  {
   "cell_type": "code",
   "execution_count": 40,
   "id": "580dd2aa",
   "metadata": {},
   "outputs": [],
   "source": [
    "tests = []\n",
    "\n",
    "\n",
    "# normal case\n",
    "test = {\n",
    "    'input': {\n",
    "        'cards': [13, 11, 10, 7, 4, 3, 1, 0], \n",
    "        'query': 7\n",
    "    },\n",
    "    'output': 3\n",
    "}\n",
    "\n",
    "tests.append(test)\n",
    "\n",
    "# query number is repeated\n",
    "tests.append({\n",
    "    'input': {\n",
    "        'cards': [13, 11, 7, 7, 7, 3, 1, 0], \n",
    "        'query': 7\n",
    "    },\n",
    "    'output': 2\n",
    "})\n",
    "\n",
    "\n",
    "# numbers near query are repeated\n",
    "tests.append({\n",
    "    'input': {\n",
    "        'cards': [13, 13, 11, 7, 3, 3, 1, 0], \n",
    "        'query': 7\n",
    "    },\n",
    "    'output': 3\n",
    "})\n",
    "\n",
    "\n",
    "# query not in list\n",
    "tests.append({\n",
    "    'input': {\n",
    "        'cards': [13, 11, 10, 7, 4, 3, 1, 0], \n",
    "        'query': 6\n",
    "    },\n",
    "    'output': -1\n",
    "})\n",
    "\n",
    "\n",
    "# empty cards list\n",
    "tests.append({\n",
    "    'input': {\n",
    "        'cards': [], \n",
    "        'query': 7\n",
    "    },\n",
    "    'output': -1\n",
    "})\n",
    "\n",
    "# repetition of query number such that all numbers are query num\n",
    "tests.append({\n",
    "    'input': {\n",
    "        'cards': [7,7,7,7,7,7,7,7,7], \n",
    "        'query': 7\n",
    "    },\n",
    "    'output': 0\n",
    "})\n",
    "\n",
    "\n",
    "# first element is query\n",
    "tests.append({\n",
    "    'input': {\n",
    "        'cards': [13, 11, 10, 7, 4, 3, 1, 0], \n",
    "        'query': 13\n",
    "    },\n",
    "    'output': 0\n",
    "})\n",
    "\n",
    "\n",
    "# last element is query\n",
    "tests.append({\n",
    "    'input': {\n",
    "        'cards': [13, 11, 10, 7, 4, 3, 1, 0], \n",
    "        'query': 0\n",
    "    },\n",
    "    'output': 7\n",
    "})\n",
    "\n",
    "\n",
    "# single element in list\n",
    "tests.append({\n",
    "    'input': {\n",
    "        'cards': [13], \n",
    "        'query': 13\n",
    "    },\n",
    "    'output': 0\n",
    "})\n",
    "\n",
    "\n",
    "## add some more\n",
    "tests.append({\n",
    "    'input': {\n",
    "        'cards': [13, 11, 10, 7, 4, 3, 1, 0],\n",
    "        'query': 1\n",
    "    },\n",
    "    'output': 6\n",
    "})\n",
    "\n",
    "# query is the first element\n",
    "tests.append({\n",
    "    'input': {\n",
    "        'cards': [4, 2, 1, -1],\n",
    "        'query': 4\n",
    "    },\n",
    "    'output': 0\n",
    "})\n",
    "\n",
    "# query is the last element\n",
    "tests.append({\n",
    "    'input': {\n",
    "        'cards': [3, -1, -9, -127],\n",
    "        'query': -127\n",
    "    },\n",
    "    'output': 3\n",
    "})\n",
    "\n",
    "# cards contains just one element, query\n",
    "tests.append({\n",
    "    'input': {\n",
    "        'cards': [6],\n",
    "        'query': 6\n",
    "    },\n",
    "    'output': 0 \n",
    "})\n",
    "\n",
    "# cards does not contain query \n",
    "tests.append({\n",
    "    'input': {\n",
    "        'cards': [9, 7, 5, 2, -9],\n",
    "        'query': 4\n",
    "    },\n",
    "    'output': -1\n",
    "})\n",
    "\n",
    "# cards is empty\n",
    "tests.append({\n",
    "    'input': {\n",
    "        'cards': [],\n",
    "        'query': 7\n",
    "    },\n",
    "    'output': -1\n",
    "})\n",
    "\n",
    "\n",
    "# numbers can repeat in cards\n",
    "tests.append({\n",
    "    'input': {\n",
    "        'cards': [8, 8, 6, 6, 6, 6, 6, 3, 2, 2, 2, 0, 0, 0],\n",
    "        'query': 3\n",
    "    },\n",
    "    'output': 7\n",
    "})\n",
    "\n",
    "\n",
    "# query occurs multiple times\n",
    "tests.append({\n",
    "    'input': {\n",
    "        'cards': [8, 8, 6, 6, 6, 6, 6, 6, 3, 2, 2, 2, 0, 0, 0],\n",
    "        'query': 6\n",
    "    },\n",
    "    'output': 2\n",
    "})"
   ]
  },
  {
   "cell_type": "code",
   "execution_count": 41,
   "id": "53449c5c",
   "metadata": {},
   "outputs": [
    {
     "data": {
      "text/plain": [
       "[{'input': {'cards': [13, 11, 10, 7, 4, 3, 1, 0], 'query': 7}, 'output': 3},\n",
       " {'input': {'cards': [13, 11, 7, 7, 7, 3, 1, 0], 'query': 7}, 'output': 2},\n",
       " {'input': {'cards': [13, 13, 11, 7, 3, 3, 1, 0], 'query': 7}, 'output': 3},\n",
       " {'input': {'cards': [13, 11, 10, 7, 4, 3, 1, 0], 'query': 6}, 'output': -1},\n",
       " {'input': {'cards': [], 'query': 7}, 'output': -1},\n",
       " {'input': {'cards': [7, 7, 7, 7, 7, 7, 7, 7, 7], 'query': 7}, 'output': 0},\n",
       " {'input': {'cards': [13, 11, 10, 7, 4, 3, 1, 0], 'query': 13}, 'output': 0},\n",
       " {'input': {'cards': [13, 11, 10, 7, 4, 3, 1, 0], 'query': 0}, 'output': 7},\n",
       " {'input': {'cards': [13], 'query': 13}, 'output': 0},\n",
       " {'input': {'cards': [13, 11, 10, 7, 4, 3, 1, 0], 'query': 1}, 'output': 6},\n",
       " {'input': {'cards': [4, 2, 1, -1], 'query': 4}, 'output': 0},\n",
       " {'input': {'cards': [3, -1, -9, -127], 'query': -127}, 'output': 3},\n",
       " {'input': {'cards': [6], 'query': 6}, 'output': 0},\n",
       " {'input': {'cards': [9, 7, 5, 2, -9], 'query': 4}, 'output': -1},\n",
       " {'input': {'cards': [], 'query': 7}, 'output': -1},\n",
       " {'input': {'cards': [8, 8, 6, 6, 6, 6, 6, 3, 2, 2, 2, 0, 0, 0], 'query': 3},\n",
       "  'output': 7},\n",
       " {'input': {'cards': [8, 8, 6, 6, 6, 6, 6, 6, 3, 2, 2, 2, 0, 0, 0],\n",
       "   'query': 6},\n",
       "  'output': 2}]"
      ]
     },
     "execution_count": 41,
     "metadata": {},
     "output_type": "execute_result"
    }
   ],
   "source": [
    "tests"
   ]
  },
  {
   "cell_type": "markdown",
   "id": "ab9c5e08",
   "metadata": {},
   "source": [
    "Solution in plain english:\n",
    "1. Start from index 0 and match it with query\n",
    "2. If current card== query: break \n",
    "3. If index==len(cards)-1 and no match -> Not found\n",
    "4. If len(cards)=0 -> Invalid list"
   ]
  },
  {
   "cell_type": "markdown",
   "id": "c2e53a67",
   "metadata": {},
   "source": [
    "### My own Solution "
   ]
  },
  {
   "cell_type": "code",
   "execution_count": 42,
   "id": "adbfbb4f",
   "metadata": {},
   "outputs": [],
   "source": [
    "def locate_card(cards, query):\n",
    "    for i in range(len(cards)):\n",
    "        if cards[i]==query:\n",
    "            print(f'{i}, {cards[i]}, {query}')\n",
    "            break\n",
    "        elif i==len(cards)-1 and cards[i]!=query:\n",
    "            return -1\n",
    "\n",
    "    return i"
   ]
  },
  {
   "cell_type": "code",
   "execution_count": 43,
   "id": "4d4fd1f7",
   "metadata": {},
   "outputs": [
    {
     "name": "stdout",
     "output_type": "stream",
     "text": [
      "3, 7, 7\n",
      "Location is :  3  Is it correct:  True\n",
      "2, 7, 7\n",
      "Location is :  2  Is it correct:  True\n",
      "3, 7, 7\n",
      "Location is :  3  Is it correct:  True\n",
      "Location is :  -1  Is it correct:  True\n"
     ]
    },
    {
     "ename": "UnboundLocalError",
     "evalue": "local variable 'i' referenced before assignment",
     "output_type": "error",
     "traceback": [
      "\u001b[1;31m---------------------------------------------------------------------------\u001b[0m",
      "\u001b[1;31mUnboundLocalError\u001b[0m                         Traceback (most recent call last)",
      "Cell \u001b[1;32mIn[43], line 2\u001b[0m\n\u001b[0;32m      1\u001b[0m \u001b[38;5;28;01mfor\u001b[39;00m test \u001b[38;5;129;01min\u001b[39;00m tests:\n\u001b[1;32m----> 2\u001b[0m     out \u001b[38;5;241m=\u001b[39m locate_card(\u001b[38;5;241m*\u001b[39m\u001b[38;5;241m*\u001b[39mtest[\u001b[38;5;124m'\u001b[39m\u001b[38;5;124minput\u001b[39m\u001b[38;5;124m'\u001b[39m])\n\u001b[0;32m      3\u001b[0m     \u001b[38;5;28mprint\u001b[39m(\u001b[38;5;124m'\u001b[39m\u001b[38;5;124mLocation is : \u001b[39m\u001b[38;5;124m'\u001b[39m, out, \u001b[38;5;124m'\u001b[39m\u001b[38;5;124m Is it correct: \u001b[39m\u001b[38;5;124m'\u001b[39m, out \u001b[38;5;241m==\u001b[39m test[\u001b[38;5;124m'\u001b[39m\u001b[38;5;124moutput\u001b[39m\u001b[38;5;124m'\u001b[39m])\n",
      "Cell \u001b[1;32mIn[42], line 9\u001b[0m, in \u001b[0;36mlocate_card\u001b[1;34m(cards, query)\u001b[0m\n\u001b[0;32m      6\u001b[0m     \u001b[38;5;28;01melif\u001b[39;00m i\u001b[38;5;241m==\u001b[39m\u001b[38;5;28mlen\u001b[39m(cards)\u001b[38;5;241m-\u001b[39m\u001b[38;5;241m1\u001b[39m \u001b[38;5;129;01mand\u001b[39;00m cards[i]\u001b[38;5;241m!=\u001b[39mquery:\n\u001b[0;32m      7\u001b[0m         \u001b[38;5;28;01mreturn\u001b[39;00m \u001b[38;5;241m-\u001b[39m\u001b[38;5;241m1\u001b[39m\n\u001b[1;32m----> 9\u001b[0m \u001b[38;5;28;01mreturn\u001b[39;00m \u001b[43mi\u001b[49m\n",
      "\u001b[1;31mUnboundLocalError\u001b[0m: local variable 'i' referenced before assignment"
     ]
    }
   ],
   "source": [
    "for test in tests:\n",
    "    out = locate_card(**test['input'])\n",
    "    print('Location is : ', out, ' Is it correct: ', out == test['output'])"
   ]
  },
  {
   "cell_type": "markdown",
   "id": "97d73d44",
   "metadata": {},
   "source": [
    "Remove inefficiencies"
   ]
  },
  {
   "cell_type": "code",
   "execution_count": 44,
   "id": "1386abce",
   "metadata": {},
   "outputs": [],
   "source": [
    "def locate_card(cards, query):\n",
    "    if len(cards)>=1:\n",
    "        for i in range(len(cards)):\n",
    "            if cards[i]==query:\n",
    "                print(f'{i}, {cards[i]}, {query}')\n",
    "                break\n",
    "            elif i==len(cards)-1 and cards[i]!=query:\n",
    "                return -1\n",
    "\n",
    "        return i\n",
    "    else:\n",
    "        return -1"
   ]
  },
  {
   "cell_type": "code",
   "execution_count": 45,
   "id": "e8c94215",
   "metadata": {},
   "outputs": [
    {
     "name": "stdout",
     "output_type": "stream",
     "text": [
      "3, 7, 7\n",
      "Location is :  3  Is it correct:  True\n",
      "2, 7, 7\n",
      "Location is :  2  Is it correct:  True\n",
      "3, 7, 7\n",
      "Location is :  3  Is it correct:  True\n",
      "Location is :  -1  Is it correct:  True\n",
      "Location is :  -1  Is it correct:  True\n",
      "0, 7, 7\n",
      "Location is :  0  Is it correct:  True\n",
      "0, 13, 13\n",
      "Location is :  0  Is it correct:  True\n",
      "7, 0, 0\n",
      "Location is :  7  Is it correct:  True\n",
      "0, 13, 13\n",
      "Location is :  0  Is it correct:  True\n",
      "6, 1, 1\n",
      "Location is :  6  Is it correct:  True\n",
      "0, 4, 4\n",
      "Location is :  0  Is it correct:  True\n",
      "3, -127, -127\n",
      "Location is :  3  Is it correct:  True\n",
      "0, 6, 6\n",
      "Location is :  0  Is it correct:  True\n",
      "Location is :  -1  Is it correct:  True\n",
      "Location is :  -1  Is it correct:  True\n",
      "7, 3, 3\n",
      "Location is :  7  Is it correct:  True\n",
      "2, 6, 6\n",
      "Location is :  2  Is it correct:  True\n"
     ]
    }
   ],
   "source": [
    "for test in tests:\n",
    "    out = locate_card(**test['input'])\n",
    "    print('Location is : ', out, ' Is it correct: ', out == test['output'])"
   ]
  },
  {
   "cell_type": "markdown",
   "id": "2170958a",
   "metadata": {},
   "source": [
    "### Recommended solution\n",
    "- for keeping consistent style of writing code\n",
    "- in future it becomes easier to adapt this code for  a little more complex algo "
   ]
  },
  {
   "cell_type": "code",
   "execution_count": 46,
   "id": "633e7356",
   "metadata": {},
   "outputs": [],
   "source": [
    "def locate_card(cards, query):\n",
    "    \n",
    "    # create a variable position with value 0\n",
    "    position = 0\n",
    "    \n",
    "    # set up a loop for repitiion\n",
    "    while True:\n",
    "        # check id element at current position matches query\n",
    "        if cards[position]==query:\n",
    "            \n",
    "            # answer found! return and exit\n",
    "            return position\n",
    "        \n",
    "        # increment the position\n",
    "        position+=1\n",
    "        \n",
    "        # check if we reached end of array\n",
    "        if position == len(cards):\n",
    "            return -1"
   ]
  },
  {
   "cell_type": "code",
   "execution_count": 47,
   "id": "e142248d",
   "metadata": {},
   "outputs": [
    {
     "name": "stdout",
     "output_type": "stream",
     "text": [
      "Ans is:  3  Is it correct:  True\n",
      "Ans is:  2  Is it correct:  True\n",
      "Ans is:  3  Is it correct:  True\n",
      "Ans is:  -1  Is it correct:  True\n"
     ]
    },
    {
     "ename": "IndexError",
     "evalue": "list index out of range",
     "output_type": "error",
     "traceback": [
      "\u001b[1;31m---------------------------------------------------------------------------\u001b[0m",
      "\u001b[1;31mIndexError\u001b[0m                                Traceback (most recent call last)",
      "Cell \u001b[1;32mIn[47], line 2\u001b[0m\n\u001b[0;32m      1\u001b[0m \u001b[38;5;28;01mfor\u001b[39;00m test \u001b[38;5;129;01min\u001b[39;00m tests:\n\u001b[1;32m----> 2\u001b[0m     out \u001b[38;5;241m=\u001b[39m locate_card(\u001b[38;5;241m*\u001b[39m\u001b[38;5;241m*\u001b[39mtest[\u001b[38;5;124m'\u001b[39m\u001b[38;5;124minput\u001b[39m\u001b[38;5;124m'\u001b[39m])\n\u001b[0;32m      3\u001b[0m     \u001b[38;5;28mprint\u001b[39m(\u001b[38;5;124m'\u001b[39m\u001b[38;5;124mAns is: \u001b[39m\u001b[38;5;124m'\u001b[39m,  out, \u001b[38;5;124m'\u001b[39m\u001b[38;5;124m Is it correct: \u001b[39m\u001b[38;5;124m'\u001b[39m, out\u001b[38;5;241m==\u001b[39mtest[\u001b[38;5;124m'\u001b[39m\u001b[38;5;124moutput\u001b[39m\u001b[38;5;124m'\u001b[39m])\n",
      "Cell \u001b[1;32mIn[46], line 9\u001b[0m, in \u001b[0;36mlocate_card\u001b[1;34m(cards, query)\u001b[0m\n\u001b[0;32m      6\u001b[0m \u001b[38;5;66;03m# set up a loop for repitiion\u001b[39;00m\n\u001b[0;32m      7\u001b[0m \u001b[38;5;28;01mwhile\u001b[39;00m \u001b[38;5;28;01mTrue\u001b[39;00m:\n\u001b[0;32m      8\u001b[0m     \u001b[38;5;66;03m# check id element at current position matches query\u001b[39;00m\n\u001b[1;32m----> 9\u001b[0m     \u001b[38;5;28;01mif\u001b[39;00m \u001b[43mcards\u001b[49m\u001b[43m[\u001b[49m\u001b[43mposition\u001b[49m\u001b[43m]\u001b[49m\u001b[38;5;241m==\u001b[39mquery:\n\u001b[0;32m     10\u001b[0m         \n\u001b[0;32m     11\u001b[0m         \u001b[38;5;66;03m# answer found! return and exit\u001b[39;00m\n\u001b[0;32m     12\u001b[0m         \u001b[38;5;28;01mreturn\u001b[39;00m position\n\u001b[0;32m     14\u001b[0m     \u001b[38;5;66;03m# increment the position\u001b[39;00m\n",
      "\u001b[1;31mIndexError\u001b[0m: list index out of range"
     ]
    }
   ],
   "source": [
    "for test in tests:\n",
    "    out = locate_card(**test['input'])\n",
    "    print('Ans is: ',  out, ' Is it correct: ', out==test['output'])"
   ]
  },
  {
   "cell_type": "markdown",
   "id": "dd8b04d2",
   "metadata": {},
   "source": [
    " remove inefficiencies"
   ]
  },
  {
   "cell_type": "code",
   "execution_count": 48,
   "id": "e1f0d14a",
   "metadata": {},
   "outputs": [],
   "source": [
    "def locate_card(cards, query):\n",
    "    \n",
    "    position = 0\n",
    "    while position < len(cards): \n",
    "        if cards[position] == query:\n",
    "            return position\n",
    "        position+=1\n",
    "    return -1\n",
    "    "
   ]
  },
  {
   "cell_type": "code",
   "execution_count": 49,
   "id": "a52596cc",
   "metadata": {},
   "outputs": [
    {
     "name": "stdout",
     "output_type": "stream",
     "text": [
      "Ans is:  3  Is it correct:  True\n",
      "Ans is:  2  Is it correct:  True\n",
      "Ans is:  3  Is it correct:  True\n",
      "Ans is:  -1  Is it correct:  True\n",
      "Ans is:  -1  Is it correct:  True\n",
      "Ans is:  0  Is it correct:  True\n",
      "Ans is:  0  Is it correct:  True\n",
      "Ans is:  7  Is it correct:  True\n",
      "Ans is:  0  Is it correct:  True\n",
      "Ans is:  6  Is it correct:  True\n",
      "Ans is:  0  Is it correct:  True\n",
      "Ans is:  3  Is it correct:  True\n",
      "Ans is:  0  Is it correct:  True\n",
      "Ans is:  -1  Is it correct:  True\n",
      "Ans is:  -1  Is it correct:  True\n",
      "Ans is:  7  Is it correct:  True\n",
      "Ans is:  2  Is it correct:  True\n"
     ]
    }
   ],
   "source": [
    "for test in tests:\n",
    "    out = locate_card(**test['input'])\n",
    "    print('Ans is: ',  out, ' Is it correct: ', out==test['output'])"
   ]
  },
  {
   "cell_type": "code",
   "execution_count": 52,
   "id": "51af356a",
   "metadata": {},
   "outputs": [
    {
     "name": "stdout",
     "output_type": "stream",
     "text": [
      "637 ns ± 11.5 ns per loop (mean ± std. dev. of 7 runs, 1,000,000 loops each)\n"
     ]
    }
   ],
   "source": [
    "%timeit locate_card(**tests[0]['input'])"
   ]
  },
  {
   "cell_type": "markdown",
   "id": "72c96543",
   "metadata": {},
   "source": [
    "Linear search is computationally expensive"
   ]
  },
  {
   "cell_type": "code",
   "execution_count": 60,
   "id": "0cd76b03",
   "metadata": {},
   "outputs": [
    {
     "name": "stdout",
     "output_type": "stream",
     "text": [
      "263 µs ± 8.65 µs per loop (mean ± std. dev. of 7 runs, 1,000 loops each)\n"
     ]
    }
   ],
   "source": [
    "test1 = {\n",
    "    'input': {\n",
    "        'cards': list(range(1000, -1200, -1)), \n",
    "        'query': -1100\n",
    "    },\n",
    "    'output': 2100\n",
    "}\n",
    "\n",
    "\n",
    "%timeit locate_card(**test1['input'])"
   ]
  },
  {
   "cell_type": "code",
   "execution_count": 62,
   "id": "4507d0ca",
   "metadata": {},
   "outputs": [
    {
     "name": "stdout",
     "output_type": "stream",
     "text": [
      "127 ms ± 4.19 ms per loop (mean ± std. dev. of 7 runs, 10 loops each)\n"
     ]
    }
   ],
   "source": [
    "test2 = {\n",
    "    'input': {\n",
    "        'cards': list(range(1000000, -1200, -1)), \n",
    "        'query': -1100\n",
    "    },\n",
    "    'output': 1001100\n",
    "}\n",
    "\n",
    "\n",
    "%timeit locate_card(**test2['input'])"
   ]
  },
  {
   "cell_type": "code",
   "execution_count": 64,
   "id": "86cadc06",
   "metadata": {},
   "outputs": [
    {
     "name": "stdout",
     "output_type": "stream",
     "text": [
      "13.1 s ± 302 ms per loop (mean ± std. dev. of 7 runs, 1 loop each)\n"
     ]
    }
   ],
   "source": [
    "test3 = {\n",
    "    'input': {\n",
    "        'cards': list(range(100000000, -1200, -1)), \n",
    "        'query': -1100\n",
    "    },\n",
    "    'output': 100001100\n",
    "}\n",
    "\n",
    "\n",
    "%timeit locate_card(**test3['input'])"
   ]
  },
  {
   "cell_type": "code",
   "execution_count": 63,
   "id": "f47b5806",
   "metadata": {},
   "outputs": [
    {
     "data": {
      "text/plain": [
       "100001100"
      ]
     },
     "execution_count": 63,
     "metadata": {},
     "output_type": "execute_result"
    }
   ],
   "source": [
    "a  = list(range(100000000, -1200, -1))\n",
    "a.index(-1100)"
   ]
  },
  {
   "cell_type": "markdown",
   "id": "dffb4142",
   "metadata": {},
   "source": [
    "__worst case__ -  N cards & we go through all of them -> N times\n",
    "\n",
    "__time complexity__ - cN: drop constant c :: <font color='red'> O(N) </font>\n",
    "\n",
    "__space complexity__ - num variables we need -  `position` -> 1 (in our case):: <font color='red'>  O(1)  </font>\n",
    "\n"
   ]
  },
  {
   "cell_type": "code",
   "execution_count": null,
   "id": "d3f373fb",
   "metadata": {},
   "outputs": [],
   "source": []
  }
 ],
 "metadata": {
  "kernelspec": {
   "display_name": "Python 3 (ipykernel)",
   "language": "python",
   "name": "python3"
  },
  "language_info": {
   "codemirror_mode": {
    "name": "ipython",
    "version": 3
   },
   "file_extension": ".py",
   "mimetype": "text/x-python",
   "name": "python",
   "nbconvert_exporter": "python",
   "pygments_lexer": "ipython3",
   "version": "3.10.9"
  }
 },
 "nbformat": 4,
 "nbformat_minor": 5
}
